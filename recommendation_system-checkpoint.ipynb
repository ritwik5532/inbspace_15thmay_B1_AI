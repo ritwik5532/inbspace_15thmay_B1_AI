{
 "cells": [
  {
   "cell_type": "code",
   "execution_count": 1,
   "id": "18b07fa7-6f28-4a67-ad74-4bbc0468f3cc",
   "metadata": {},
   "outputs": [],
   "source": [
    "import pandas as pd\n",
    "import warnings\n",
    "import tkinter as tk\n",
    "warnings.filterwarnings(\"ignore\")"
   ]
  },
  {
   "cell_type": "code",
   "execution_count": 10,
   "id": "eda29e17-6efd-4c5c-bc0b-c61de6a3c3f4",
   "metadata": {},
   "outputs": [],
   "source": [
    "cols=\"user_id item_id rating timestamp\".split()\n",
    "df = pd.read_csv('u.data',sep='\\t',names=cols)\n",
    "cols_movies = ['item_id', 'title']+[str(i) for i in range(22)]\n",
    "movie_titles = pd.read_csv('u.item',sep='|',names=cols_movies, encoding='latin-1')\n",
    "movie_titles = movie_titles[['item_id','title']]\n",
    "data = pd.merge(df,movie_titles, on='item_id')\n",
    "rating = pd.DataFrame(data.groupby('title')['rating'].mean())\n",
    "rating['count'] = data['title'].value_counts()\n",
    "pivot_df = data.pivot_table(index = 'user_id', columns = 'title', values = 'rating')\n",
    "\n",
    "\n",
    "app=tk.Tk()\n",
    "app.title('Recommendation System')\n",
    "app.geometry('400x300')\n",
    "app.configure(background=\"Blue\") \n",
    " \n",
    "tk.Label(app,text=\"RECOMMENDATION SYSTEM\",font=(\"ARROW UNDERLINE\", 13,\"bold\")).place(x=65,y=1)\n",
    "tk.Label(app,text=\"Movie You Watched\").place(x=25,y=45)\n",
    "tk.Label(app,text=\"Recommend For You\").place(x=25,y=120)\n",
    "tk.Label(app,text=\"Also Try\").place(x=25,y=155)\n",
    "\n",
    "movie_var=tk.Variable(app)\n",
    "recommend_var=tk.Variable(app)\n",
    "also_try_var=tk.Variable(app)\n",
    "\n",
    "recommend_var.set('Suggested Result')\n",
    "also_try_var.set('Suggested Result')\n",
    "\n",
    "\n",
    "tk.Entry(app,textvariable=movie_var,width=23).place(x=150,y=45)\n",
    "tk.Label(app,textvariable=recommend_var).place(x=150,y=120)\n",
    "tk.Label(app,textvariable=also_try_var).place(x=150,y=155)    \n",
    "\n",
    "\n",
    "def p():\n",
    "         movie=movie_var.get().lower().strip()\n",
    "         if movie:\n",
    "         \n",
    "            try:\n",
    "                movie=movie_titles['title'][movie_titles['title'].apply(lambda x: movie in x.lower())].values[0]\n",
    "                print(movie)\n",
    "                movie_var.set(movie)\n",
    "            except IndexError:\n",
    "                recommend_var.set(\"Movie not found\")\n",
    "                recommend_var.set(\"Movie not found\")\n",
    "            else:\n",
    "                corr_df = pd.DataFrame(pivot_df.corrwith(pivot_df[movie]), columns = ['Correlation'])\n",
    "                corr_df.dropna(inplace=True)\n",
    "                corr_df = corr_df.join(rating['count'])\n",
    "                recommend_var.set(corr_df[(corr_df['count']>200)&(corr_df['Correlation']>0.4)].sort_values(by='Correlation',ascending=False).index[1])\n",
    "                also_try_var.set(corr_df[corr_df['Correlation']>0.4].sort_values(by=\"Correlation\",ascending=False).index[0])\n",
    "         \n",
    "        \n",
    "        \n",
    "         \n",
    "tk.Button(app,text='Find Suggestion',command=p,bg='grey',fg='yellow').place(x=110,y=80) \n",
    "app.mainloop()"
   ]
  },
  {
   "cell_type": "code",
   "execution_count": null,
   "id": "f8c075bc-4b2d-40c1-b682-1e77e14a6b5b",
   "metadata": {},
   "outputs": [],
   "source": []
  },
  {
   "cell_type": "code",
   "execution_count": null,
   "id": "5b4d6c91-c333-4e79-8959-ff6b73910aff",
   "metadata": {},
   "outputs": [],
   "source": []
  }
 ],
 "metadata": {
  "kernelspec": {
   "display_name": "Python 3",
   "language": "python",
   "name": "python3"
  },
  "language_info": {
   "codemirror_mode": {
    "name": "ipython",
    "version": 3
   },
   "file_extension": ".py",
   "mimetype": "text/x-python",
   "name": "python",
   "nbconvert_exporter": "python",
   "pygments_lexer": "ipython3",
   "version": "3.8.8"
  }
 },
 "nbformat": 4,
 "nbformat_minor": 5
}
